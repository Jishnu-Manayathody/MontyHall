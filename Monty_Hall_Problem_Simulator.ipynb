{
  "nbformat": 4,
  "nbformat_minor": 0,
  "metadata": {
    "colab": {
      "provenance": []
    },
    "kernelspec": {
      "name": "python3",
      "display_name": "Python 3"
    },
    "language_info": {
      "name": "python"
    }
  },
  "cells": [
    {
      "cell_type": "markdown",
      "source": [
        "\n",
        "---\n",
        "\n",
        "## Monty Hall Problem\n",
        "\n",
        "The Monty Hall problem is a probability puzzle where you're presented with three closed doors. Behind one door is a prize, while the other two doors hide goats. You choose a door, and then the host, Monty Hall, opens a different door revealing a goat. You're given the option to stick with your original choice or switch to the remaining unopened door.\n",
        "\n",
        "The key insight is that **switching doors** gives you a higher chance of winning the prize. Initially, you have a 1/3 chance of choosing the prize. But when the host reveals a goat, switching increases your chances to 2/3, while sticking maintains your initial 1/3 probability.\n",
        "\n",
        "The provided Python code simulates the Monty Hall problem and demonstrates that the strategy of **switching doors** consistently yields a higher win rate than **sticking with the initial choice**."
      ],
      "metadata": {
        "id": "BIq0dVPpQpOG"
      }
    },
    {
      "cell_type": "code",
      "execution_count": 3,
      "metadata": {
        "colab": {
          "base_uri": "https://localhost:8080/",
          "height": 0
        },
        "id": "R2RsRCYNG2G2",
        "outputId": "06bb8b25-db8e-4ec4-fb44-87bc21915dda"
      },
      "outputs": [
        {
          "output_type": "stream",
          "name": "stdout",
          "text": [
            "Staying wins: 33133 out of 100000 simulations.\n",
            "Switching wins: 66867 out of 100000 simulations.\n"
          ]
        }
      ],
      "source": [
        "import random\n",
        "\n",
        "def monty_hall_simulator(num_simulations):\n",
        "    stay_wins = 0\n",
        "    switch_wins = 0\n",
        "\n",
        "    for _ in range(num_simulations):\n",
        "        doors = [0, 0, 1]  # 0 represents a goat, 1 represents a car\n",
        "        random.shuffle(doors)\n",
        "\n",
        "        first_choice = random.randint(0, 2)\n",
        "        revealed_door = reveal_door(doors, first_choice)\n",
        "\n",
        "        # Strategy: Staying with the first choice\n",
        "        if doors[first_choice] == 1:\n",
        "            stay_wins += 1\n",
        "\n",
        "        # Strategy: Switching the choice\n",
        "        second_choice = switch_door(first_choice, revealed_door)\n",
        "        if doors[second_choice] == 1:\n",
        "            switch_wins += 1\n",
        "\n",
        "    return stay_wins, switch_wins\n",
        "\n",
        "def reveal_door(doors, first_choice):\n",
        "    while True:\n",
        "        revealed_door = random.randint(0, 2)\n",
        "        if revealed_door != first_choice and doors[revealed_door] == 0:\n",
        "            return revealed_door\n",
        "\n",
        "def switch_door(first_choice, revealed_door):\n",
        "    switch_options = [0, 1, 2]\n",
        "    switch_options.remove(first_choice)\n",
        "    switch_options.remove(revealed_door)\n",
        "    return switch_options[0]\n",
        "\n",
        "# Run the simulation\n",
        "num_simulations = 100000\n",
        "stay_wins, switch_wins = monty_hall_simulator(num_simulations)\n",
        "\n",
        "# Display the results\n",
        "print(f\"Staying wins: {stay_wins} out of {num_simulations} simulations.\")\n",
        "print(f\"Switching wins: {switch_wins} out of {num_simulations} simulations.\")\n"
      ]
    },
    {
      "cell_type": "markdown",
      "source": [
        "### JISHNU M\n",
        "\n",
        "[www.linkedin.com/in/jishnumanayathody](https://www.linkedin.com/in/jishnumanayathody)"
      ],
      "metadata": {
        "id": "Q71HyhWHRNnX"
      }
    }
  ]
}